{
 "cells": [
  {
   "cell_type": "code",
   "execution_count": null,
   "metadata": {
    "collapsed": true
   },
   "outputs": [],
   "source": [
    "%%cython \n",
    "import cython\n",
    "import numpy as np\n",
    "cimport numpy as np\n",
    "from libc.stdlib cimport rand, RAND_MAX\n",
    "from libc.math cimport log,exp\n",
    "\n",
    "\n",
    "@cython.boundscheck(False)\n",
    "@cython.wraparound(False)\n",
    "@cython.cdivision(True)\n",
    "\n",
    "def multinomial_sampler(p):\n",
    "    \"\"\"\n",
    "    generate a random number from multinomial distribution\n",
    "\n",
    "    Parameters\n",
    "    ----------\n",
    "    p : an array, contains a set of probabilities\n",
    "    \n",
    "\n",
    "    Returns\n",
    "    -------\n",
    "    n  : an integer, \n",
    "         a random index corresponding to the probability which generates it\n",
    "    \"\"\"\n",
    "    cdef double u_idex \n",
    "    cdef int i,j,n\n",
    "    for i in range(1,len(p)):\n",
    "        p[i] += p[i-1]\n",
    "    u_idex = rand()/(RAND_MAX+1.0) * p[len(p)-1]\n",
    "    n = 0\n",
    "    for j in range(0, len(p)):\n",
    "        \n",
    "        if p[j] > u_idex:\n",
    "            n = j\n",
    "            break\n",
    "    return nb"
   ]
  },
  {
   "cell_type": "code",
   "execution_count": null,
   "metadata": {
    "collapsed": true
   },
   "outputs": [],
   "source": [
    "np.random.seed(2017)\n",
    "list1 = \"\"\n",
    "list2 = \"\"\n",
    "w1 = [0.3,0.7]\n",
    "w2 = [0.8,0.2]\n",
    "t0 = [0.5,0.25,0.25]\n",
    "t1 = [1/3,1/3,1/3]\n",
    "t00 = {0:\"latent\",1:\"dirichlet\",2:\"allocation\"}\n",
    "t11 = {0:\"latent\",1:\"semantic\",2:\"analysis\"}\n",
    "for i in range(200):\n",
    "    p1 = np.random.multinomial(1,w1).argmax()\n",
    "    if p1 == 0:\n",
    "        p2 = np.random.multinomial(1,t0).argmax()\n",
    "        list1 += t00[p2]+\" \"\n",
    "    else:\n",
    "        p2 = np.random.multinomial(1,t1).argmax()\n",
    "        list1 +=  t11[p2]+\" \"\n",
    "        \n",
    "for j in range(300):\n",
    "    p1 = np.random.multinomial(1,w2).argmax()\n",
    "    if p1 == 0:\n",
    "        p2 = np.random.multinomial(1,t0).argmax()\n",
    "        list2 += t00[p2]+\" \"\n",
    "    else:\n",
    "        p2 = np.random.multinomial(1,t1).argmax()\n",
    "        list2 += t11[p2]+\" \"\n",
    "test_list = [list1,list2]"
   ]
  }
 ],
 "metadata": {
  "kernelspec": {
   "display_name": "Python 3",
   "language": "python",
   "name": "python3"
  },
  "language_info": {
   "codemirror_mode": {
    "name": "ipython",
    "version": 3
   },
   "file_extension": ".py",
   "mimetype": "text/x-python",
   "name": "python",
   "nbconvert_exporter": "python",
   "pygments_lexer": "ipython3",
   "version": "3.5.2"
  }
 },
 "nbformat": 4,
 "nbformat_minor": 2
}
