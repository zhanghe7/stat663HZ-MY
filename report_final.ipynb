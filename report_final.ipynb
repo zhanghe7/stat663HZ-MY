{
 "cells": [
  {
   "cell_type": "markdown",
   "metadata": {},
   "source": [
    "<h1><center> STA663 Statistical Computation Final Project </center></h1>\n",
    "<h2><center> Implementatiton of Latent Dirichlet Allocation(LDA) </center></h2>\n",
    "<h3><center> Hengqian Zhang, Mengrui Yin </center></h3>"
   ]
  },
  {
   "cell_type": "markdown",
   "metadata": {},
   "source": [
    "https://github.com/zhanghe7/stat663HZ-MY.git"
   ]
  },
  {
   "cell_type": "markdown",
   "metadata": {},
   "source": [
    "## Summary"
   ]
  },
  {
   "cell_type": "markdown",
   "metadata": {},
   "source": [
    "$\\quad$Latent Dirichlet Allocation is a generative probabilistic model to deal with discrete data such as text corpora. In this report, we implemented the algorithm in the paper ”Latent Dirichlet Allocation”(David M. Blei, Andrew Y.Ng, Michael I. Jordan) with Gibbs Sampler and Variatioanl Inference, compared results of these two methods, performed code testing to ensure correctness and optimized the Python code with Cython to make our work faster. Simulation is used for generating small text set to do inference. "
   ]
  },
  {
   "cell_type": "markdown",
   "metadata": {},
   "source": [
    "### 1  Introduction"
   ]
  },
  {
   "cell_type": "markdown",
   "metadata": {},
   "source": [
    "$\\quad$The paper we selected is \"Latent Dirichlet Allocation\"(David M. Blei, Andrew Y. Ng, Michael I. Jordan). One of our homework about tf-idf scheme intrigued our interests about text modeling, so we selected this paper to implement. tf-idf did not concern latent relationships between words. The situation of two documents with few common words but are similar cannot be analyzed by tf-idf. So LDA did great improvement. It is much more complex than tf-idf with better performance. It is a three level hierarchical Bayesian model including words, topics, documents. Text corpora is a collection of documents and each document is a mixture distributions over topics. Each topic is a mixture distribution over words under this topic. Due to difficulty of computation, LDA applied variational methods and an EM algorithm for parameter estimates and inference.<br> \n",
    "$\\quad$ The alternative method to deal with compuation difficulty is Gibbs Sampler. LDA is an unsupervised machine learning algorithm, which is used to recognize latent topics of big dataset of text such as corpus. It is a powerful tool for text data set. It can be used for document modeling,classification and filtering. In LDA algorithm, words in all doucuments are regarded as a VOCABULARY and we regard VOCABULARY as word bag, which is no order between words. So, LDA simplifies complexity of topic inference. In our project, we implemented LDA algorithm and applied it on texts to find top words of each topics.  "
   ]
  },
  {
   "cell_type": "markdown",
   "metadata": {},
   "source": [
    "### 2 Algorithm Description"
   ]
  },
  {
   "cell_type": "markdown",
   "metadata": {},
   "source": [
    "#### 2.1 define terms"
   ]
  },
  {
   "cell_type": "markdown",
   "metadata": {},
   "source": [
    "* A **word** is defined as a item from a VOCABULARY with index\n",
    "$\\{$1$\\cdots$V$\\}$<br>\n",
    "* A **document** is a sequence of N words denoted by $\\vec{w}$ = $\\{$ w$_1$,w$_2$ $\\cdots$ w$_N$ $\\}$,where w$_n$ is the nth word of the document <br>\n",
    "* A **corpus** is a collection of M documents denoted by $D = { \\vec{w_1},\\vec{w_2} \\cdots \\vec{w_M} }$, where $\\vec{w_m}$ represents document m\n"
   ]
  },
  {
   "cell_type": "markdown",
   "metadata": {},
   "source": [
    "LDA assumes the following generative process for each document\n",
    "$\\vec{w}$ in a corpus D:\n",
    "1. Choose N $\\sim$ Poisson($\\xi$)\n",
    "2. Choose $\\vec{\\theta}$ $\\sim$ Dir($\\vec{\\alpha}$)\n",
    "3. For each of the N words w$_n$:<br>\n",
    "(a) Choose a topic z$_n$ $\\sim$ Multinomial($\\vec{\\theta}$)<br> \n",
    "(b) Choose a word w$_n$ from p(w$_n$ $|$ z$_n$,$\\vec{\\beta}$), a Multinomial probability conditioned on the topic z$_n$<br>"
   ]
  },
  {
   "cell_type": "markdown",
   "metadata": {},
   "source": [
    "* N: the number of words in a document <br> \n",
    "* K: the number of topics <br> \n",
    "* $\\vec{\\alpha}$: a vector with k dimension, hyper-parameter of distribution of document-topic <br>\n",
    "* $\\vec{\\beta}$: a matrix, a distribution of topic-word<br>\n",
    "* $\\vec{\\theta}$: the vector of ${p(z_n | d)}$ with K dimension, d denotes the document. $\\vec{\\theta}$ can be denoted  as $\\{p_{t1} \\cdots p_{tk}\\}$, where p$_{ti}$ represents the probability of topic i in the document d. $\\theta_m$ is the topic distribution of document m<br>\n",
    "* z$_n$: the index of topic of nth word in the document<br>\n",
    "* w$_n$: the index of nth word<br>"
   ]
  },
  {
   "cell_type": "markdown",
   "metadata": {},
   "source": [
    "The following shows the process of LDA<br>\n",
    "<br>\n",
    "![caption](files/LDA.png)"
   ]
  },
  {
   "cell_type": "markdown",
   "metadata": {},
   "source": [
    "$\\quad$The graphs above shows the process of LDA. The outer frame is corpus which is made up of M single document. The inner frame has tow components: words(circle w) and topics(circle z). The graph clearly demonstrate the process of LDA. $\\alpha$ is parameter of $\\theta$. $\\theta$ is a  distribution of document-topic whose prior is Dirichlet Distribution. Topic z is sampled from a mixture distribution over topics, so it is sampled for multinomial($\\theta$). After obtaining topic, we can find distribution of words under this topic and sampled word form this distribution. $\\beta$ is parameter of word distribution.  "
   ]
  },
  {
   "cell_type": "markdown",
   "metadata": {},
   "source": [
    "#### 2.2 derive the model"
   ]
  },
  {
   "cell_type": "markdown",
   "metadata": {},
   "source": [
    "$\\quad$As above, $\\vec{\\theta}$ $\\sim$ Dir($\\vec{\\alpha}$), so<br>\n",
    "<center>$p(\\vec{\\theta}|\\vec{\\alpha})$ = $\\frac{\\Gamma(\\sum_{i=1}^{k}\\alpha_i)}{\\prod_{i=1}^{k}\\Gamma(\\alpha_i)}\\theta_1^{\\alpha_1-1} \\cdots \\theta_k^{\\alpha_k-1}$<br>"
   ]
  },
  {
   "cell_type": "markdown",
   "metadata": {},
   "source": [
    "$\\quad$$\\vec{\\theta}$ is sampled from Dirichlet Distribution.The reason to use Dirichlet because it will focus on only important words of a document. Thinking one word as a feature, if we only focus on important words, the features could be decreased and thus the dimension will be decreased. So LDA select Dirichlet as prior of $\\vec{\\theta}$ can achieve dimension reduction.<br>\n",
    "<br>\n",
    "$\\quad$Given the parameters $\\alpha$ and $\\beta$, the joint distribution of a topic mixture $\\vec{\\theta}$, a set of N topics $\\vec{z}$ and a set of N words $\\vec{w}$ is given by:<br>\n",
    "<center>p($\\theta$,$\\vec{z}$,$\\vec{w}$ $|$ $\\alpha$,$\\beta$) = p($\\theta$ $|$ $\\alpha$)\n",
    "$\\prod_{n=1}^{N}$ p(z$_n$ $|$ $\\theta$)p(w$_n$ $|$z$_n$,$\\beta$)<center>\n",
    "<br>"
   ]
  },
  {
   "cell_type": "markdown",
   "metadata": {},
   "source": [
    "$\\quad$Intergrating over $\\vec{\\theta}$ and summing over z, we obtain the marginal distribution of a document:<br>\n",
    "<br>\n",
    "<center>$p(\\vec{w} | \\alpha,\\beta) =\\int p(\\theta | \\alpha) (\\prod_{n=1}^{N} \\sum_{z_n} p(z_n | \\theta)p(w_n |z_n,\\beta))d\\theta$<center><br>"
   ]
  },
  {
   "cell_type": "markdown",
   "metadata": {},
   "source": [
    "$\\quad$Finally, taking the product of the marginal probabilities of single documents, we obtian the probability of a corpus:<br>\n",
    "<br>\n",
    "<center>$p(D | \\alpha,\\beta) =\\prod_{d=1}^{M}\\int p(\\theta_d | \\alpha) (\\prod_{n=1}^{N_d} \\sum_{z_{dn}} p(z_{dn} | \\theta_d)p(w_{dn} | z_{dn},\\beta))d\\theta_d$<center><br>"
   ]
  },
  {
   "cell_type": "markdown",
   "metadata": {},
   "source": [
    "#### 2.3 Inference"
   ]
  },
  {
   "cell_type": "markdown",
   "metadata": {},
   "source": [
    "$\\quad$The key inferential problem that we need to solve in orde to use LDA is that of computing the posterior distribution of the hidden variables given a document:<br>\n",
    "<center>p($\\vec{\\theta}$,$\\vec{z}$ $|$ $\\vec{w}$,$\\alpha$,$\\beta$) = $\\frac{p(\\vec{\\theta},\\vec{z},\\vec{w} | \\alpha,\\beta)}{p(\\vec{w} | \\alpha,\\beta)}$<center><br>"
   ]
  },
  {
   "cell_type": "markdown",
   "metadata": {},
   "source": [
    "Likelihood:<br>\n",
    "<center>p($\\vec{w}$ $|$ $\\alpha$,$\\beta$) = $\\frac{\\Gamma(\\sum_{i}\\alpha_i)}{\\prod_i\\Gamma(\\alpha_i)}\\int(\\prod_{i=1}^{k}\\theta_i^{\\alpha_i-1})(\\prod_{n=1}^{N}\\sum_{i=1}^{k}\\prod_{j=1}^{V}(\\theta_i\\beta_{ij})^{w_n^j})d\\theta$<center><br>"
   ]
  },
  {
   "cell_type": "markdown",
   "metadata": {},
   "source": [
    "$\\quad$However, this function is not intractable due to the product of $\\theta_i$ \n",
    "and \n",
    "$\\beta_{ij}$\n",
    "in the summation over latent variable. So we use Gibbs Sampler to get approximated distribtuion. The alternative solution is using Variational Inference in EM algorithm to get the approximation of posterior of latent variables"
   ]
  },
  {
   "cell_type": "markdown",
   "metadata": {},
   "source": [
    "### 3 Gibbs Sampler Implementation"
   ]
  },
  {
   "cell_type": "markdown",
   "metadata": {},
   "source": [
    "$\\quad$We use Monte Carlo Markov Chain(Gibbs Sampler) to get approximated distribution. We have parameters $\\theta$\n",
    ",$\\phi$ and z. Through Gibbs Sampler, instead of updating these three parameters, we only need to update z since we can removing parameter $\\theta$ and $\\phi$ by integrating over them. Then we use z to update $\\theta$ and $\\phi$.($\\phi$ here is differnet from $\\phi$ in Variational Inference. In Variational Inference, $\\phi$ is latent parameter for topics vector $\\vec{z}$)."
   ]
  },
  {
   "cell_type": "markdown",
   "metadata": {},
   "source": [
    "$\\quad$We apply Gibbs Sampler to get full conditional distribution $p(z_i|\\vec{z}_{-i},\\vec{w})$, which is an approximation of $p(\\vec{z}|\\vec{w})$<br>.\n",
    "$\\quad$To find full conditionals, we focus on joint distribution first.<br>\n",
    "Joint distribution: <br>\n",
    "<center>$p(\\vec{w},\\vec{z}|\\vec{\\alpha},\\vec{\\beta})p(\\vec{z}|\\vec{w}) = p(\\vec{w}|\\vec{z},\\vec{\\beta})p(\\vec{z}|\\vec{\\alpha})$<center><br>"
   ]
  },
  {
   "cell_type": "markdown",
   "metadata": {},
   "source": [
    "$\\quad$The first term does not contain $\\alpha$ and the second term does not contain $\\beta$,so we can deal with them separately,<br>\n",
    "<center>$p(\\vec{w}|\\vec{z},\\vec{\\phi}) = \\prod_{i=1}^{w}p(w_i|z_i) = \\prod_{i=1}^{w}\\varphi_{z_i,w_i}$<center>\n",
    "<br>\n",
    "<br>\n",
    "$p(\\vec{w}|\\vec{z},\\vec{\\phi}) = \n",
    "\\prod_{k=1}^{K}\\prod_{i:z_i:=k}p(w_i = t|z_i = k) = \\prod_{k=1}^{K}\\prod_{t=1}^{V}\\varphi_{k,t}^{{n_k}^{(t)}}$"
   ]
  },
  {
   "cell_type": "markdown",
   "metadata": {},
   "source": [
    "* w:represents the total words in Corpus<br>\n",
    "* ${n_k}^{(t)}$ represents the number of times word t is observed in topic k.\n",
    "Our goal\n",
    "$p(\\vec{w}|\\vec{z},\\vec{\\beta})$ is obtained by integrating over \n",
    "$\\phi$.\n",
    "$\\phi$ is assumed as a known parameter: a matrix with K $\\times$ V dimension. Every entry is the probability of a word under each topic. So each row is one topic and each column is one word.<br>\n",
    "<br>\n",
    "The we integrate over $\\phi$ and we can derive:<br>\n",
    "<center>$P(\\vec{w}|\\vec{z},\\vec{\\beta}) = \\int P(\\vec{w} |\\vec{z},\\phi) P(\\phi|\\vec{\\beta}) d\\phi$\\\\\n",
    "$= \\int \\prod_{k=1}^{K}\\frac{1}{\\Delta \\vec{beta}}\\prod_{t+1}{V}\\varphi_{k,t}^{{n_k}^{(t)}+\\beta_t-1} d\\varphi_k$<br>\n",
    "$= \\prod_{i=1}^{K}\\frac{\\Delta(\\vec{n_k}+\\vec{\\beta})}{\\Delta(\\vec{\\beta})}$,\n",
    "$\\vec{n_k} = \\{{n_k}^{(t)}\\}_{t=1}^{V}$<br><center>"
   ]
  },
  {
   "cell_type": "markdown",
   "metadata": {},
   "source": [
    "* The vector\n",
    "$\\vec{n}_k$ represents the ditribution of words under topic k, it can be denoted as\n",
    "$\\vec{n}_k$\n",
    "= (the number of word 1 under topic k, the number of word 2 under topic k $\\cdots$).<br>\n",
    "<br>\n",
    "After calculation and simplification, we can get full conditionals:<br>\n",
    "<center>p$(z_i = k|\\vec{z}_{-i},\\vec{w}) = \\frac{p(\\vec{w},\\vec{z})}{p(\\vec{w},\\vec{z}_{-i})} = \\frac{n_i-1 + \\beta_i}{\\sum_{t=1}^{V}(n_{t,-i}+\\beta_t)}\\frac{n_k-1+\\alpha_k}{\\sum_{t=1}{K}(n_{t,-i}+\\alpha_t)}$<br><center>"
   ]
  },
  {
   "cell_type": "markdown",
   "metadata": {},
   "source": [
    "* $n_i-1$\n",
    ":the number of word i in topic k -1<br>\n",
    "* $p(\\vec{w},\\vec{z}_{-i})$\n",
    ": the probability of word i is from topic k<br>\n",
    "* $n_k-1$\n",
    ": the number of topic under document m -1<br>\n",
    "* $\\sum_{t=1}{K}(n_{t,-i}+\\alpha_t)$\n",
    ": the probability of topic k is from document m<br>"
   ]
  },
  {
   "cell_type": "markdown",
   "metadata": {},
   "source": [
    "$\\quad$Then we use full conditionals to update $\\theta$:distributions of topics and $\\phi$: distributions of words:<br>\n",
    "**update** $\\vec{\\theta}$:<br>\n",
    "$\\theta = [\\vec{\\theta_1},\\vec{\\theta_2}\\cdots,\\vec{\\theta_m}]$<br>\n",
    "$\\theta_{m,k} = \\frac{n_{m.k}+\\alpha_k}{\\sum_{i=1}^{K}(n_{m.i}+\\alpha_i)} = \\frac{n_{m,k}+\\alpha}{\\sum_{i=1}^{K}n_{m,i}+K \\alpha}$<br>\n",
    "<br>\n",
    "**update** $\\vec{\\phi}$<br>\n",
    "$\\phi = [\\vec{\\phi_1},\\vec{\\phi_2}\\cdots,\\vec{\\phi_m}]$<br>\n",
    "$\\phi_{k,w} = \\frac{n_{k,w}+\\beta_w}{\\sum_{i=1}^{V}(n_{k,i}+\\beta_i)} = \\frac{n_{k,w}+\\beta}{\\sum_{i=1}^{V}n_{k,i}+V \\beta}$<br>\n"
   ]
  },
  {
   "cell_type": "markdown",
   "metadata": {},
   "source": [
    "$\\quad$where $n_{k,i}$ is the number of words in document i that have been assigned to topic k, $n_k,w$ is the total number words assigned to topic k among all documents in the corpus.\n"
   ]
  },
  {
   "cell_type": "markdown",
   "metadata": {},
   "source": [
    "$\\quad$From the above formula, we can see that updating for $\\theta$ and $\\phi$ is only related to topic $z_i$, so we only focus on estimation of $z_i$. To find estimated $z_i$, we need:"
   ]
  },
  {
   "cell_type": "markdown",
   "metadata": {},
   "source": [
    "* $n_{d,z}$: the number of words of document m with topic z, exclude the current word\n",
    "* $n_{z,w}$: the number of instances of word w with topic z, exclude the current word\n",
    "* $n_z$: the taotal number of words under topic z, exclude the current one"
   ]
  },
  {
   "cell_type": "markdown",
   "metadata": {},
   "source": [
    "The posterior distribution is: <br>\n",
    "<center>$p(z_i=j|z_i,w)\\propto \\frac{n_{zw}+\\phi}{n_z+V \\phi} \\frac{n_{mz}+\\alpha}{n_m + K \\alpha} $"
   ]
  },
  {
   "cell_type": "markdown",
   "metadata": {},
   "source": [
    "#### pseudo code for update $\\theta$ and $\\phi$ in Gibbs Sampler\n",
    "* input: number of documents: M, number of topics: K, \n",
    "$\\alpha$\n",
    ",\n",
    "$\\beta$\n",
    ",iter$\\_$number<br>\n",
    "* output: theta(doc$\\rightarrow$topic) ,phi(topic$\\rightarrow$word) and tassign(topic assignment)<br>\n",
    "* nw[ ][ ]:number of instances of word/term i assigned to topic j,size V $\\times$ K<br>\n",
    "* nwsum[ ][ ]:total number of words assigned to topic j, size K<br>\n",
    "* nd[ ][ ]:number of topic j is assigned in document i, size M $\\times$ K<br>\n",
    "* ndsum[ ]:total number of words in document i, size M<br>\n",
    "size M $\\times$ per\\_doc\\_word\\_len: the index of word n assigned in doc m "
   ]
  },
  {
   "cell_type": "markdown",
   "metadata": {},
   "source": [
    "#### 3.1 Import packages and functions"
   ]
  },
  {
   "cell_type": "code",
   "execution_count": 3,
   "metadata": {
    "collapsed": false
   },
   "outputs": [],
   "source": [
    "import numpy as np\n",
    "import re\n",
    "import string\n",
    "import nltk\n",
    "import collections"
   ]
  },
  {
   "cell_type": "code",
   "execution_count": 4,
   "metadata": {
    "collapsed": false
   },
   "outputs": [],
   "source": [
    "%load_ext cython"
   ]
  },
  {
   "cell_type": "markdown",
   "metadata": {},
   "source": [
    "#### 3.2 Cleaning text set"
   ]
  },
  {
   "cell_type": "code",
   "execution_count": 5,
   "metadata": {
    "collapsed": true
   },
   "outputs": [],
   "source": [
    "def text_processor(corpus):\n",
    "    \"\"\"\n",
    "    Split and filter words for each document in corpus.\n",
    "    Create vocabulary and word-id table\n",
    "\n",
    "    Parameters\n",
    "    ----------\n",
    "    corpus : a valid address of text file and each line in this file\n",
    "    represents a document\n",
    "\n",
    "    Returns\n",
    "    -------\n",
    "    word_id  : a dictionary \n",
    "               takes vocabulary of corpus as keys and a set of unique \n",
    "               numbers as values\n",
    "    \n",
    "    id_word  : a dictionary\n",
    "               takes a set of unique numbersas keys and vocabulary of \n",
    "               corpus as values\n",
    "               \n",
    "    articles : a list\n",
    "               containing sublists which has the same length as the number\n",
    "               of document in corpus. Each sublist contains a set of ids \n",
    "               coresponding to the words in original document\n",
    "    \"\"\"\n",
    "    word_id  = {}\n",
    "    id_word  = {}\n",
    "    articles = []\n",
    "    ##currentDocument\n",
    "    current_doc    = []\n",
    "    ##currentWordId\n",
    "    current_wordid = 0\n",
    "    for doc in corpus:\n",
    "        ## split words\n",
    "        word_split = doc.split()\n",
    "        for word in word_split:\n",
    "            word = word.lower().strip()\n",
    "            ##the length of word should be bigger than 1 and not contains stop words and punctuation\n",
    "            if len(word) > 1 and word.isalpha() and word not in stopWords:\n",
    "                if word in word_id:\n",
    "                    current_doc.append(word_id[word])\n",
    "                else:\n",
    "                    current_doc.append(current_wordid)\n",
    "                    word_id[word] = current_wordid\n",
    "                    id_word[current_wordid] = word\n",
    "                    current_wordid += 1\n",
    "        articles.append(current_doc)\n",
    "        current_doc = []\n",
    "    return articles, word_id, id_word          "
   ]
  },
  {
   "cell_type": "markdown",
   "metadata": {},
   "source": [
    "#### 3.2 Initialization and Gibbs Sampling Preparation"
   ]
  },
  {
   "cell_type": "code",
   "execution_count": 6,
   "metadata": {
    "collapsed": true
   },
   "outputs": [],
   "source": [
    "def initialize(articles,M,K,V,alpha,beta):\n",
    "    \"\"\"\n",
    "    lda gibbs sampler method initilization\n",
    "    \n",
    "    Parameters\n",
    "    ----------\n",
    "    articles : a list returned by text_processor method\n",
    "    M        : number of document in corpus\n",
    "    K        : number of topic\n",
    "    V        : length of the vocabulary returned by text_processor method\n",
    "    alpha    : prior\n",
    "    beta     : prior\n",
    "    Returns\n",
    "    -------Z,dz_n,,z_n\n",
    "    Z        : list, randomly assign each word in each document\n",
    "               a topic\n",
    "    \n",
    "    dz_n     : a matrix, shape(M,K), initialized distribution of topic\n",
    "               for each document\n",
    "               \n",
    "    zw_n     : a matrix, shape(K,V), initialized distribution of words for\n",
    "               each topic\n",
    "               \n",
    "    z_n      : an array, shape(K), initialized total number of words assigned\n",
    "               to each topic + V*beta\n",
    "    \"\"\"\n",
    "    ZZ         = []                       #need to update \n",
    "    dzz_n      = np.zeros([M, K]) + alpha #document-topic matrix need to update\n",
    "    zww_n      = np.zeros([K, V]) + beta  #dopic-vocabulary need to update\n",
    "    zz_n       = np.zeros([K]) + V * beta #need to update\n",
    "    for d in range(len(articles)):\n",
    "        currentdoc_z = []\n",
    "        for w in articles[d]:\n",
    "            p_z = (dzz_n[d,:]*zww_n[:,w])/zz_n\n",
    "            z   = np.random.multinomial(1,p_z/p_z.sum()).argmax()\n",
    "            currentdoc_z.append(z)\n",
    "            dzz_n[d,z] += 1\n",
    "            zww_n[z,w] += 1\n",
    "            zz_n[z]    += 1\n",
    "        ZZ.append(currentdoc_z)\n",
    "    return ZZ,dzz_n,zww_n,zz_n"
   ]
  },
  {
   "cell_type": "markdown",
   "metadata": {},
   "source": [
    "#### 3.3 Gibbs Sampler"
   ]
  },
  {
   "cell_type": "code",
   "execution_count": 7,
   "metadata": {
    "collapsed": true
   },
   "outputs": [],
   "source": [
    "def gibbs_sampler(iteration,articles,Z,dz_n,zw_n,z_n):\n",
    "    \"\"\"\n",
    "    lda gibbs sampler main method\n",
    "    \n",
    "    Parameters\n",
    "    ----------\n",
    "    iteration: number of iterations\n",
    "    articles : a list returned by text_processor method\n",
    "    Z        : a list, returned initialize_cython method\n",
    "    dz_n     : a matrix, returned by initialize_cython method\n",
    "    zw_n     : a matrix, returned by initialize_cython method\n",
    "    z_n      : an array, returned by initialize_cython method\n",
    "    \n",
    "    Returns\n",
    "    -------Z,dz_n,,z_n\n",
    "    dz_n     : a matrix, shape(M,K), distribution of topic for each document\n",
    "               \n",
    "    zw_n     : a matrix, shape(K,V), distribution of words for each topic\n",
    "               \n",
    "    z_n      : an array, shape(K), total number of words assigned to each topic\n",
    "    \"\"\"\n",
    "    for i in range(iteration):\n",
    "        for d in range(len(articles)): \n",
    "            for index in range(len(articles[d])):\n",
    "                z = Z[d][index]\n",
    "                #the number of topic correspoding to the word -1\n",
    "                dz_n[d,z] -= 1   \n",
    "                zw_n[z,articles[d][index]] -= 1\n",
    "                z_n[z]    -= 1\n",
    "                p_z        = (dz_n[d,:]*zw_n[:,articles[d][index]])/z_n\n",
    "                z          =  np.random.multinomial(1,p_z/p_z.sum()).argmax() #assign a new topic to this word       \n",
    "                #the number of topic correspoding to the word +1\n",
    "                Z[d][index]= z \n",
    "                dz_n[d,z] += 1 \n",
    "                zw_n[z,articles[d][index]] +=1\n",
    "                z_n[z] +=1\n",
    "    return dz_n,zw_n,z_n"
   ]
  },
  {
   "cell_type": "markdown",
   "metadata": {},
   "source": [
    "### 4 Applications to simulated data sets and test original function"
   ]
  },
  {
   "cell_type": "markdown",
   "metadata": {
    "collapsed": true
   },
   "source": [
    "$\\quad$We used simulation to simulate document-topics distribution and topic-words distribution. We simulated 2 topics: w1 represents topics distribution of document1 and w2 represents topics distribution of document2. w1 and w2 are real topics distributions. We simulated 6 words and tow of them are repeated. Since VOCABULARY only counts unique words, so there are 5 words in VOCABULARY. The real words distributions are 3 of them belongs to topic1 and 3 of them belongs to topic2. t00 represents words distribution assigned to topic 1 and t11 represents words distribution under topic2. Our goal is to generate new topic distribution by our implemented lDA algorithm and compare it with the real one.  "
   ]
  },
  {
   "cell_type": "code",
   "execution_count": 8,
   "metadata": {
    "collapsed": false
   },
   "outputs": [],
   "source": [
    "np.random.seed(2017)\n",
    "list1 = \"\"\n",
    "list2 = \"\"\n",
    "w1 = [0.3,0.7]\n",
    "w2 = [0.8,0.2]\n",
    "t0 = [0.5,0.25,0.25]\n",
    "t1 = [1/3,1/3,1/3]\n",
    "t00 = {0:\"latent\",1:\"dirichlet\",2:\"allocation\"}\n",
    "t11 = {0:\"latent\",1:\"semantic\",2:\"analysis\"}\n",
    "for i in range(200):\n",
    "    p1 = np.random.multinomial(1,w1).argmax()\n",
    "    if p1 == 0:\n",
    "        p2 = np.random.multinomial(1,t0).argmax()\n",
    "        list1 += t00[p2]+\" \"\n",
    "    else:\n",
    "        p2 = np.random.multinomial(1,t1).argmax()\n",
    "        list1 +=  t11[p2]+\" \"\n",
    "        \n",
    "for j in range(300):\n",
    "    p1 = np.random.multinomial(1,w2).argmax()\n",
    "    if p1 == 0:\n",
    "        p2 = np.random.multinomial(1,t0).argmax()\n",
    "        list2 += t00[p2]+\" \"\n",
    "    else:\n",
    "        p2 = np.random.multinomial(1,t1).argmax()\n",
    "        list2 += t11[p2]+\" \"\n",
    "test_list = [list1,list2]"
   ]
  },
  {
   "cell_type": "code",
   "execution_count": 9,
   "metadata": {
    "collapsed": true
   },
   "outputs": [],
   "source": [
    "stopWords = set(nltk.corpus.stopwords.words('english'))"
   ]
  },
  {
   "cell_type": "code",
   "execution_count": 10,
   "metadata": {
    "collapsed": false
   },
   "outputs": [],
   "source": [
    "articles, word_id, id_word = text_processor(test_list)"
   ]
  },
  {
   "cell_type": "code",
   "execution_count": 11,
   "metadata": {
    "collapsed": true
   },
   "outputs": [],
   "source": [
    "alpha     = 3                        #prior for each document's topic distribution\n",
    "beta      = 0.1                      #prior for each topic's vocabulary distribution                     #need to update \n",
    "M         = len(articles)            #number of document\n",
    "V         = len(word_id)             #number of vocabulary\n",
    "K         = 2                       #number of chosen topic"
   ]
  },
  {
   "cell_type": "code",
   "execution_count": 12,
   "metadata": {
    "collapsed": true
   },
   "outputs": [],
   "source": [
    "Z1,dz_n1,zw_n1,z_n1 = initialize(articles,M,K,V,alpha,beta)"
   ]
  },
  {
   "cell_type": "code",
   "execution_count": 13,
   "metadata": {
    "collapsed": true
   },
   "outputs": [],
   "source": [
    "dz_n_1, zw_n_1,z_n_1 = gibbs_sampler(1000, articles, Z1,dz_n1,zw_n1,z_n1)"
   ]
  },
  {
   "cell_type": "code",
   "execution_count": 14,
   "metadata": {
    "collapsed": false,
    "scrolled": true
   },
   "outputs": [
    {
     "data": {
      "text/plain": [
       "array([[ 0.27669903,  0.72330097],\n",
       "       [ 0.80065359,  0.19934641]])"
      ]
     },
     "execution_count": 14,
     "metadata": {},
     "output_type": "execute_result"
    }
   ],
   "source": [
    "dz_n_1/np.sum(dz_n_1,1)[:,None]"
   ]
  },
  {
   "cell_type": "markdown",
   "metadata": {},
   "source": [
    "$\\quad$The new topics distribution generaged by our LDA algorithm is showed above. Under document1, one topic has around 28% probability and another topic has around 72% probability. Under document2, one topic has around 80% prabbility and the other has around 20% probability. The result is highly similar to the real topics distribution, which we simulated above. So the test proves the validation of our LDA algorithm."
   ]
  },
  {
   "cell_type": "markdown",
   "metadata": {},
   "source": [
    "### 5 optimization for performance"
   ]
  },
  {
   "cell_type": "markdown",
   "metadata": {},
   "source": [
    "$\\quad$In this part, we focus on how to optimize our original LDA algorithm.\n",
    "We mainly use cython to speed up the algorithm, since there are many for loops. In addition, since each iteration of gibbs sampling depends on its previous iteration, vectorization an parallization is impossible in this case. <br>\n",
    "\n",
    "$\\quad$Two main steps we use to speed up the algorithm: try to clearly define each variable and write our own version of multinomial sampling. Here, we want to highlight the second step. Suppose our corpus has 2000 words, we choose 10 topic and run 500 times gibbs sampling. The total number we need run multinomial sampling is $10000000$. As what we showed below this step improve a lot the performance of our algorithm.<br>\n",
    "\n",
    "$\\quad$Finally, we also add a function to compute the perplexity in each iteration for future analysis later"
   ]
  },
  {
   "cell_type": "markdown",
   "metadata": {},
   "source": [
    "#### 5.1 Cython version of initialization"
   ]
  },
  {
   "cell_type": "code",
   "execution_count": 15,
   "metadata": {
    "collapsed": true
   },
   "outputs": [],
   "source": [
    "%%cython\n",
    "import cython\n",
    "import numpy as np\n",
    "cimport numpy as np\n",
    "from libc.stdlib cimport rand, RAND_MAX\n",
    "\n",
    "@cython.boundscheck(False)\n",
    "@cython.wraparound(False)\n",
    "@cython.cdivision(True)\n",
    "\n",
    "\n",
    "cdef int multinomial_sampler(double[:] p):\n",
    "    \"\"\"\n",
    "    generate a random number from multinomial distribution\n",
    "\n",
    "    Parameters\n",
    "    ----------\n",
    "    p : an array, contains a set of probabilities\n",
    "    \n",
    "\n",
    "    Returns\n",
    "    -------\n",
    "    n  : an integer, \n",
    "         a random index corresponding to the probability which generates it\n",
    "    \"\"\"\n",
    "    cdef double u_idex \n",
    "    cdef int i,j,n\n",
    "    for i in range(1,len(p)):\n",
    "        p[i] += p[i-1]\n",
    "    u_idex = rand()/(RAND_MAX+1.0) * p[len(p)-1]\n",
    "    n = 0\n",
    "    for j in range(0, len(p)):\n",
    "        \n",
    "        if p[j] > u_idex:\n",
    "            n = j\n",
    "            break\n",
    "    return n\n",
    "\n",
    "@cython.boundscheck(False)\n",
    "@cython.wraparound(False)\n",
    "@cython.cdivision(True)\n",
    "\n",
    "def initialize_cython(articles,int M,int K,int V,double alpha,double beta):\n",
    "    \"\"\"\n",
    "    lda gibbs sampler method initilization(Cython acceleration vesrion)\n",
    "    \n",
    "    Parameters\n",
    "    ----------\n",
    "    articles : a list returned by text_processor method\n",
    "    M        : number of document in corpus\n",
    "    K        : number of topic\n",
    "    V        : length of the vocabulary returned by text_processor method\n",
    "    alpha    : prior\n",
    "    beta     : prior\n",
    "    Returns\n",
    "    -------Z,dz_n,,z_n\n",
    "    Z        : list, randomly assign each word in each document\n",
    "               a topic\n",
    "    \n",
    "    dz_n     : a matrix, shape(M,K), initialized distribution of topic\n",
    "               for each document\n",
    "               \n",
    "    zw_n     : a matrix, shape(K,V), initialized distribution of words for\n",
    "               each topic\n",
    "               \n",
    "    z_n      : an array, shape(K), initialized total number of words assigned\n",
    "               to each topic + V*beta\n",
    "    \"\"\"\n",
    "    Z         = []                 #need to update\n",
    "    cdef int z                 = 0\n",
    "    cdef int w,d,i,j\n",
    "    cdef double[:, :]dz_n      = np.zeros([M, K]) + alpha #document-topic matrix need to update\n",
    "    cdef double[:, :]zw_n      = np.zeros([K, V]) + beta  #dopic-vocabulary need to update\n",
    "    cdef double[:]z_n          = np.zeros([K]) + V * beta #need to update\n",
    "    cdef double[:]reset = np.zeros([K])\n",
    "    cdef double[:]p_z  = reset\n",
    "    cdef double p_z_sum = 0\n",
    "    cdef double[:]p_z_s = reset\n",
    "    for d in range(len(articles)):\n",
    "        currentdoc_z = []\n",
    "        for w in articles[d]:\n",
    "            for i in range(K):\n",
    "                p_z[i] = (dz_n[d,i]*zw_n[i,w])/z_n[i]\n",
    "                p_z_sum += p_z[i]\n",
    "            for j in range(K):\n",
    "                p_z_s[j] = p_z[j]/p_z_sum\n",
    "            z  = multinomial_sampler(p_z_s)\n",
    "            currentdoc_z.append(z)\n",
    "            dz_n[d,z] += 1\n",
    "            zw_n[z,w] += 1\n",
    "            z_n[z]    += 1\n",
    "            z = 0\n",
    "            p_z_sum = 0\n",
    "            p_z  = reset\n",
    "            p_z_s = reset\n",
    "        Z.append(currentdoc_z)\n",
    "    return Z,dz_n,zw_n,z_n"
   ]
  },
  {
   "cell_type": "markdown",
   "metadata": {},
   "source": [
    "#### 5.1 Cython version of gibbs sampler"
   ]
  },
  {
   "cell_type": "code",
   "execution_count": 16,
   "metadata": {
    "collapsed": false
   },
   "outputs": [],
   "source": [
    "%%cython \n",
    "import cython\n",
    "import numpy as np\n",
    "cimport numpy as np\n",
    "from libc.stdlib cimport rand, RAND_MAX\n",
    "from libc.math cimport log,exp\n",
    "\n",
    "\n",
    "@cython.boundscheck(False)\n",
    "@cython.wraparound(False)\n",
    "@cython.cdivision(True)\n",
    "\n",
    "cdef double perplexity(articles,double[:,:] dz_n,double[:,:] zw_n, double[:] z_n):\n",
    "    \"\"\"\n",
    "    return perplexity in each iteration\n",
    "\n",
    "    Parameters\n",
    "    ----------\n",
    "    articles : a list returned by text_processor method\n",
    "    dz_n     : same as defined in gibbs_sampler_cython\n",
    "    zw_n     : same as defined in gibbs_sampler_cython\n",
    "    z_n      : same as defined in gibbs_sampler_cython\n",
    "   \n",
    "    Returns\n",
    "    -------\n",
    "    1/exp(log_p/n) : perplexity\n",
    "    \"\"\"\n",
    "    cdef int m = dz_n.shape[0]\n",
    "    cdef int kk = dz_n.shape[1]\n",
    "    cdef double[:] d_n = np.zeros(m)\n",
    "    cdef int n = 0\n",
    "    cdef int i,j,k\n",
    "    cdef double log_p = 0.0\n",
    "    cdef double mmm\n",
    "    \n",
    "    for i in range(m):\n",
    "        for j in range(kk):\n",
    "            d_n[i] += dz_n[i][j]\n",
    "            \n",
    "    for d in range(len(articles)):\n",
    "            for index in range(len(articles[d])):\n",
    "                for k in range(kk):\n",
    "                    mmm += (zw_n[k, articles[d][index]]/z_n[k]) * (dz_n[d, k] / d_n[d])\n",
    "                log_p += log(mmm)\n",
    "                n +=1\n",
    "                mmm = 0\n",
    "    return 1/exp(log_p/n)\n",
    "\n",
    "@cython.boundscheck(False)\n",
    "@cython.wraparound(False)\n",
    "@cython.cdivision(True)\n",
    "\n",
    "cdef int multinomial_sampler(double[:] p):\n",
    "    \"\"\"\n",
    "    generate a random number from multinomial distribution\n",
    "\n",
    "    Parameters\n",
    "    ----------\n",
    "    p : an array, contains a set of probabilities\n",
    "    \n",
    "\n",
    "    Returns\n",
    "    -------\n",
    "    n  : an integer, \n",
    "         a random index corresponding to the probability which generates it\n",
    "    \"\"\"\n",
    "    cdef double u_idex \n",
    "    cdef int i,j,n\n",
    "    for i in range(1,len(p)):\n",
    "        p[i] += p[i-1]\n",
    "    u_idex = rand()/(RAND_MAX+1.0) * p[len(p)-1]\n",
    "    n = 0\n",
    "    for j in range(0, len(p)):\n",
    "        \n",
    "        if p[j] > u_idex:\n",
    "            n = j\n",
    "            break\n",
    "    return n\n",
    "\n",
    "@cython.boundscheck(False)\n",
    "@cython.wraparound(False)\n",
    "@cython.cdivision(True)\n",
    "\n",
    "\n",
    "def gibbs_sampler_cython(int iteration,articles,Z,double[:, :] dz_n, double[:, :] zw_n, double[:] z_n,int K):\n",
    "    \"\"\"\n",
    "    lda gibbs sampler main method(Cython acceleration vesrion)\n",
    "    \n",
    "    Parameters\n",
    "    ----------\n",
    "    iteration: number of iterations\n",
    "    articles : a list returned by text_processor method\n",
    "    Z        : a list, returned initialize_cython method\n",
    "    dz_n     : a matrix, returned by initialize_cython method\n",
    "    zw_n     : a matrix, returned by initialize_cython method\n",
    "    z_n      : an array, returned by initialize_cython method\n",
    "    \n",
    "    Returns\n",
    "    -------Z,dz_n,,z_n\n",
    "    dz_n     : a matrix, shape(M,K), distribution of topic for each document\n",
    "               \n",
    "    zw_n     : a matrix, shape(K,V), distribution of words for each topic\n",
    "               \n",
    "    z_n      : an array, shape(K), total number of words assigned to each topic\n",
    "    \"\"\"\n",
    "    cdef int i,d,index,a_length,w,h\n",
    "    cdef int articles_length = len(articles)\n",
    "    cdef int z                 = 0\n",
    "    \n",
    "    cdef double[:]reset = np.zeros([K])\n",
    "    cdef double[:]p_z   = reset\n",
    "    cdef double p_z_sum = 0\n",
    "    cdef double[:]p_z_s = reset\n",
    "    cdef double[:]perp  = np.zeros([iteration]) \n",
    "    \n",
    "    for i in range(iteration): \n",
    "        for d in range(articles_length):\n",
    "            a_length = len(articles[d])\n",
    "            for index in range(a_length):\n",
    "                z = Z[d][index]\n",
    "                #the number of topic correspoding to the word -1\n",
    "                dz_n[d,z] -= 1\n",
    "                zw_n[z,articles[d][index]] -= 1\n",
    "                z_n[z]    -= 1\n",
    "                \n",
    "                w = articles[d][index]\n",
    "                for h in range(K):\n",
    "                    p_z[h] = (dz_n[d,h]*zw_n[h,w])/z_n[h]\n",
    "                    p_z_sum += p_z[h]\n",
    "                for j in range(K):\n",
    "                    p_z_s[j] = p_z[j]/p_z_sum\n",
    "                z  = multinomial_sampler(p_z_s)\n",
    "                \n",
    "                Z[d][index]= z\n",
    "                #the number of topic correspoding to the word +1\n",
    "                dz_n[d,z] += 1\n",
    "                zw_n[z,w] +=1\n",
    "                z_n[z] +=1\n",
    "                z = 0\n",
    "                p_z_sum = 0\n",
    "                p_z  = reset\n",
    "                p_z_s = reset\n",
    "        perp[i] = perplexity(articles, dz_n, zw_n, z_n)\n",
    "    return dz_n,zw_n,z_n,perp"
   ]
  },
  {
   "cell_type": "code",
   "execution_count": 17,
   "metadata": {
    "collapsed": true
   },
   "outputs": [],
   "source": [
    "with open('dataset.txt') as f:\n",
    "        docs = [doc.strip() for doc in f]"
   ]
  },
  {
   "cell_type": "code",
   "execution_count": 18,
   "metadata": {
    "collapsed": true
   },
   "outputs": [],
   "source": [
    "articles, word_id, id_word = text_processor(docs)"
   ]
  },
  {
   "cell_type": "code",
   "execution_count": 24,
   "metadata": {
    "collapsed": true
   },
   "outputs": [],
   "source": [
    "alpha     = 3                        #prior for each document's topic distribution\n",
    "beta      = 0.1                      #prior for each topic's vocabulary distribution                     #need to update \n",
    "M         = len(articles)            #number of document\n",
    "V         = len(word_id)             #number of vocabulary\n",
    "K         = 10  "
   ]
  },
  {
   "cell_type": "markdown",
   "metadata": {},
   "source": [
    "#### Initialization Test"
   ]
  },
  {
   "cell_type": "code",
   "execution_count": 25,
   "metadata": {
    "collapsed": false
   },
   "outputs": [
    {
     "name": "stdout",
     "output_type": "stream",
     "text": [
      "100 loops, best of 3: 15.9 ms per loop\n"
     ]
    }
   ],
   "source": [
    "%timeit Z1,dz_n1,zw_n1,z_n1 = initialize(articles,M,K,V,alpha,beta)"
   ]
  },
  {
   "cell_type": "code",
   "execution_count": 26,
   "metadata": {
    "collapsed": false
   },
   "outputs": [
    {
     "name": "stdout",
     "output_type": "stream",
     "text": [
      "1000 loops, best of 3: 1.36 ms per loop\n"
     ]
    }
   ],
   "source": [
    "%timeit Z2,dz_n2,zw_n2,z_n2 = initialize_cython(articles,M,K,V,alpha,beta)"
   ]
  },
  {
   "cell_type": "code",
   "execution_count": 27,
   "metadata": {
    "collapsed": true
   },
   "outputs": [],
   "source": [
    "Z1,dz_n1,zw_n1,z_n1 = initialize(articles,M,K,V,alpha,beta)"
   ]
  },
  {
   "cell_type": "markdown",
   "metadata": {},
   "source": [
    "#### Gibbs Sampler Test"
   ]
  },
  {
   "cell_type": "code",
   "execution_count": 28,
   "metadata": {
    "collapsed": false
   },
   "outputs": [
    {
     "name": "stdout",
     "output_type": "stream",
     "text": [
      "1 loop, best of 3: 17.3 s per loop\n"
     ]
    }
   ],
   "source": [
    "%timeit dz_n_1, zw_n_1,z_n_1 = gibbs_sampler(1000, articles, Z1,dz_n1,zw_n1,z_n1)"
   ]
  },
  {
   "cell_type": "code",
   "execution_count": 29,
   "metadata": {
    "collapsed": false
   },
   "outputs": [
    {
     "name": "stdout",
     "output_type": "stream",
     "text": [
      "1 loop, best of 3: 1.57 s per loop\n"
     ]
    }
   ],
   "source": [
    "%timeit dz_n_2, zw_n_2,z_n_2,perp_2 = gibbs_sampler_cython(1000, articles,Z1,dz_n1,zw_n1,z_n1,K)"
   ]
  },
  {
   "cell_type": "markdown",
   "metadata": {},
   "source": [
    "$\\quad$As what it is shown above, Our cython version algorithms perform very well. In both initialization and gibbs sampler steps, cython version algorithms are 10 times faster than the original ones."
   ]
  },
  {
   "cell_type": "markdown",
   "metadata": {},
   "source": [
    "#### Multinomial Function Comparison Test"
   ]
  },
  {
   "cell_type": "code",
   "execution_count": 30,
   "metadata": {
    "collapsed": true
   },
   "outputs": [],
   "source": [
    "%%cython \n",
    "import cython\n",
    "import numpy as np\n",
    "cimport numpy as np\n",
    "from libc.stdlib cimport rand, RAND_MAX\n",
    "from libc.math cimport log,exp\n",
    "\n",
    "\n",
    "@cython.boundscheck(False)\n",
    "@cython.wraparound(False)\n",
    "@cython.cdivision(True)\n",
    "\n",
    "def multinomial_sampler(p):\n",
    "    \"\"\"\n",
    "    generate a random number from multinomial distribution\n",
    "\n",
    "    Parameters\n",
    "    ----------\n",
    "    p : an array, contains a set of probabilities\n",
    "    \n",
    "\n",
    "    Returns\n",
    "    -------\n",
    "    n  : an integer, \n",
    "         a random index corresponding to the probability which generates it\n",
    "    \"\"\"\n",
    "    cdef double u_idex \n",
    "    cdef int i,j,n\n",
    "    for i in range(1,len(p)):\n",
    "        p[i] += p[i-1]\n",
    "    u_idex = rand()/(RAND_MAX+1.0) * p[len(p)-1]\n",
    "    n = 0\n",
    "    for j in range(0, len(p)):\n",
    "        \n",
    "        if p[j] > u_idex:\n",
    "            n = j\n",
    "            break\n",
    "    return n\n",
    "\n"
   ]
  },
  {
   "cell_type": "markdown",
   "metadata": {},
   "source": [
    "#### Cython Version"
   ]
  },
  {
   "cell_type": "code",
   "execution_count": 31,
   "metadata": {
    "collapsed": false
   },
   "outputs": [
    {
     "name": "stdout",
     "output_type": "stream",
     "text": [
      "1 loop, best of 3: 316 ms per loop\n"
     ]
    }
   ],
   "source": [
    "%%timeit\n",
    "l = []\n",
    "p = [0.1,0.3,0.6]\n",
    "for i in range(1000000):\n",
    "    l.append(multinomial_sampler(p))"
   ]
  },
  {
   "cell_type": "markdown",
   "metadata": {},
   "source": [
    "#### Numpy Version"
   ]
  },
  {
   "cell_type": "code",
   "execution_count": 32,
   "metadata": {
    "collapsed": false
   },
   "outputs": [
    {
     "name": "stdout",
     "output_type": "stream",
     "text": [
      "1 loop, best of 3: 3.15 s per loop\n"
     ]
    }
   ],
   "source": [
    "%%timeit\n",
    "ll = []\n",
    "pp = [0.1,0.3,0.6]\n",
    "for i in range(1000000):\n",
    "    ll.append(np.random.multinomial(1,pp).argmax())"
   ]
  },
  {
   "cell_type": "markdown",
   "metadata": {},
   "source": [
    "$\\quad$This experiment show numpy multinomial function is much slower than our own version. It is because numpy multinomial function contain a lot more information which we do not need in our algorithm."
   ]
  },
  {
   "cell_type": "markdown",
   "metadata": {},
   "source": [
    "### Applications to Real Data Sets"
   ]
  },
  {
   "cell_type": "markdown",
   "metadata": {},
   "source": [
    "$\\quad$The real data consists 100 pieces of news from Associated Press. Associated Press is an American Multinational nonprofit news agency headquartered in New York City that operates as a cooperative, unincorporated association. From this data set, we want to know what is the stlye of Associated Press. "
   ]
  },
  {
   "cell_type": "code",
   "execution_count": 33,
   "metadata": {
    "collapsed": true
   },
   "outputs": [],
   "source": [
    "import seaborn\n",
    "import matplotlib.pyplot as plt\n",
    "import pandas as pd\n",
    "%matplotlib inline"
   ]
  },
  {
   "cell_type": "code",
   "execution_count": 34,
   "metadata": {
    "collapsed": true
   },
   "outputs": [],
   "source": [
    "with open('dataset2.txt') as f:\n",
    "        docs_ap = [doc.strip() for doc in f]"
   ]
  },
  {
   "cell_type": "code",
   "execution_count": 35,
   "metadata": {
    "collapsed": false
   },
   "outputs": [],
   "source": [
    "articles_ap, word_id_ap, id_word_ap = text_processor(docs_ap)"
   ]
  },
  {
   "cell_type": "code",
   "execution_count": 36,
   "metadata": {
    "collapsed": true
   },
   "outputs": [],
   "source": [
    "alpha_ap     = 5                        #prior for each document's topic distribution\n",
    "beta_ap      = 0.2                      #prior for each topic's vocabulary distribution                     #need to update \n",
    "M_ap         = len(articles_ap)            #number of document\n",
    "V_ap         = len(word_id_ap)             #number of vocabularyb                      #number of chosen topic"
   ]
  },
  {
   "cell_type": "markdown",
   "metadata": {},
   "source": [
    "$\\quad$Here, we set topic to $10,20,30$ respectively. Run our cython version algorihtm to each case, plot their perplexity over iterations and make comparision. Our comparision criterion is based on the perplexity. In information theory, perplexity is a measurement of how well a probability distribution or probability model predicts a sample. It can be used to compare probability models. A low perplexity indicates the probability distribution is good at predicting the sample. Therefore, we would like to choose the topic number with the lowest perplexity."
   ]
  },
  {
   "cell_type": "code",
   "execution_count": 37,
   "metadata": {
    "collapsed": false
   },
   "outputs": [],
   "source": [
    "K_ap         = 30\n",
    "Z_ap,dz_n_ap,zw_n_ap,z_n_ap = initialize_cython(articles_ap,M_ap,K_ap,V_ap,alpha_ap,beta_ap)\n",
    "dz_n_ap,zw_n_ap,z_n_ap,perp_ap = gibbs_sampler_cython(200, articles_ap,Z_ap,dz_n_ap,zw_n_ap,z_n_ap,K_ap)\n",
    "perp = np.array(perp_ap)"
   ]
  },
  {
   "cell_type": "code",
   "execution_count": 38,
   "metadata": {
    "collapsed": true
   },
   "outputs": [],
   "source": [
    "K_ap         = 20\n",
    "Z_ap,dz_n_ap,zw_n_ap,z_n_ap = initialize_cython(articles_ap,M_ap,K_ap,V_ap,alpha_ap,beta_ap)\n",
    "dz_n_ap,zw_n_ap,z_n_ap,perp_ap = gibbs_sampler_cython(200, articles_ap,Z_ap,dz_n_ap,zw_n_ap,z_n_ap,K_ap)\n",
    "perp1 = np.array(perp_ap)"
   ]
  },
  {
   "cell_type": "code",
   "execution_count": 39,
   "metadata": {
    "collapsed": true
   },
   "outputs": [],
   "source": [
    "K_ap         = 10\n",
    "Z_ap,dz_n_ap,zw_n_ap,z_n_ap = initialize_cython(articles_ap,M_ap,K_ap,V_ap,alpha_ap,beta_ap)\n",
    "dz_n_ap,zw_n_ap,z_n_ap,perp_ap = gibbs_sampler_cython(200, articles_ap,Z_ap,dz_n_ap,zw_n_ap,z_n_ap,K_ap)\n",
    "perp2 = np.array(perp_ap)"
   ]
  },
  {
   "cell_type": "code",
   "execution_count": 40,
   "metadata": {
    "collapsed": false,
    "scrolled": true
   },
   "outputs": [
    {
     "data": {
      "image/png": "[encoded data removed]",
      "text/plain": [
       "<matplotlib.figure.Figure at 0x7fb3f25f6e10>"
      ]
     },
     "metadata": {},
     "output_type": "display_data"
    }
   ],
   "source": [
    "plt.plot(list(np.arange(200)),list(perp2), 'ro', color = 'r')\n",
    "plt.plot(list(np.arange(200)),list(perp1), 'ro', color = 'g')\n",
    "plt.plot(list(np.arange(200)),list(perp), 'ro', color = 'y')\n",
    "\n",
    "plt.title('Perplexity for K=10, K=20, K=30', y=1.08)\n",
    "\n",
    "plt.legend(['K = 10', 'K = 20', 'K = 30'], loc='upper right')\n",
    "\n",
    "plt.ylabel('perplexity')\n",
    "plt.show()\n",
    "\n",
    "pass"
   ]
  },
  {
   "cell_type": "markdown",
   "metadata": {},
   "source": [
    "$\\quad$From the plot given above, we can see that after 100 iterations, perplexity did not vary a lot and $K = 10$ achieve the lowest perplexity. And we then chose $K = 10$, printed 10 most popular words for each topic and infered the news style of Associated Press. "
   ]
  },
  {
   "cell_type": "code",
   "execution_count": 41,
   "metadata": {
    "collapsed": true
   },
   "outputs": [],
   "source": [
    "topicwords = []\n",
    "maxTopicWordsNum = 10\n",
    "for z in range(0, K):\n",
    "    ids = np.array(zw_n_ap[z, :]).argsort()\n",
    "    topicword = []\n",
    "    for j in ids:\n",
    "        topicword.insert(0, id_word_ap[j])\n",
    "    topicwords.append(topicword[0 : min(10, len(topicword))])"
   ]
  },
  {
   "cell_type": "code",
   "execution_count": 42,
   "metadata": {
    "collapsed": false
   },
   "outputs": [],
   "source": [
    "top_words = pd.DataFrame(topicwords)"
   ]
  },
  {
   "cell_type": "code",
   "execution_count": 43,
   "metadata": {
    "collapsed": false,
    "scrolled": true
   },
   "outputs": [
    {
     "data": {
      "text/html": [
       "<div>\n",
       "<table border=\"1\" class=\"dataframe\">\n",
       "  <thead>\n",
       "    <tr style=\"text-align: right;\">\n",
       "      <th></th>\n",
       "      <th>0</th>\n",
       "      <th>1</th>\n",
       "      <th>2</th>\n",
       "      <th>3</th>\n",
       "      <th>4</th>\n",
       "      <th>5</th>\n",
       "      <th>6</th>\n",
       "      <th>7</th>\n",
       "      <th>8</th>\n",
       "      <th>9</th>\n",
       "    </tr>\n",
       "  </thead>\n",
       "  <tbody>\n",
       "    <tr>\n",
       "      <th>0</th>\n",
       "      <td>said</td>\n",
       "      <td>bush</td>\n",
       "      <td>people</td>\n",
       "      <td>police</td>\n",
       "      <td>two</td>\n",
       "      <td>told</td>\n",
       "      <td>dukakis</td>\n",
       "      <td>get</td>\n",
       "      <td>one</td>\n",
       "      <td>back</td>\n",
       "    </tr>\n",
       "    <tr>\n",
       "      <th>1</th>\n",
       "      <td>said</td>\n",
       "      <td>officials</td>\n",
       "      <td>would</td>\n",
       "      <td>president</td>\n",
       "      <td>two</td>\n",
       "      <td>first</td>\n",
       "      <td>official</td>\n",
       "      <td>union</td>\n",
       "      <td>government</td>\n",
       "      <td>year</td>\n",
       "    </tr>\n",
       "    <tr>\n",
       "      <th>2</th>\n",
       "      <td>new</td>\n",
       "      <td>state</td>\n",
       "      <td>states</td>\n",
       "      <td>york</td>\n",
       "      <td>may</td>\n",
       "      <td>could</td>\n",
       "      <td>california</td>\n",
       "      <td>federal</td>\n",
       "      <td>global</td>\n",
       "      <td>summit</td>\n",
       "    </tr>\n",
       "    <tr>\n",
       "      <th>3</th>\n",
       "      <td>people</td>\n",
       "      <td>president</td>\n",
       "      <td>american</td>\n",
       "      <td>think</td>\n",
       "      <td>administration</td>\n",
       "      <td>good</td>\n",
       "      <td>trade</td>\n",
       "      <td>believe</td>\n",
       "      <td>public</td>\n",
       "      <td>country</td>\n",
       "    </tr>\n",
       "    <tr>\n",
       "      <th>4</th>\n",
       "      <td>central</td>\n",
       "      <td>southern</td>\n",
       "      <td>high</td>\n",
       "      <td>national</td>\n",
       "      <td>wednesday</td>\n",
       "      <td>got</td>\n",
       "      <td>front</td>\n",
       "      <td>fire</td>\n",
       "      <td>reported</td>\n",
       "      <td>record</td>\n",
       "    </tr>\n",
       "    <tr>\n",
       "      <th>5</th>\n",
       "      <td>said</td>\n",
       "      <td>new</td>\n",
       "      <td>million</td>\n",
       "      <td>also</td>\n",
       "      <td>bank</td>\n",
       "      <td>used</td>\n",
       "      <td>one</td>\n",
       "      <td>barry</td>\n",
       "      <td>jewish</td>\n",
       "      <td>east</td>\n",
       "    </tr>\n",
       "    <tr>\n",
       "      <th>6</th>\n",
       "      <td>soviet</td>\n",
       "      <td>years</td>\n",
       "      <td>gorbachev</td>\n",
       "      <td>many</td>\n",
       "      <td>union</td>\n",
       "      <td>rating</td>\n",
       "      <td>according</td>\n",
       "      <td>three</td>\n",
       "      <td>officers</td>\n",
       "      <td>system</td>\n",
       "    </tr>\n",
       "    <tr>\n",
       "      <th>7</th>\n",
       "      <td>former</td>\n",
       "      <td>defense</td>\n",
       "      <td>state</td>\n",
       "      <td>united</td>\n",
       "      <td>black</td>\n",
       "      <td>saudi</td>\n",
       "      <td>economic</td>\n",
       "      <td>washington</td>\n",
       "      <td>diplomatic</td>\n",
       "      <td>support</td>\n",
       "    </tr>\n",
       "    <tr>\n",
       "      <th>8</th>\n",
       "      <td>scientists</td>\n",
       "      <td>since</td>\n",
       "      <td>also</td>\n",
       "      <td>spacecraft</td>\n",
       "      <td>like</td>\n",
       "      <td>make</td>\n",
       "      <td>magellan</td>\n",
       "      <td>contact</td>\n",
       "      <td>called</td>\n",
       "      <td>group</td>\n",
       "    </tr>\n",
       "    <tr>\n",
       "      <th>9</th>\n",
       "      <td>percent</td>\n",
       "      <td>said</td>\n",
       "      <td>last</td>\n",
       "      <td>oil</td>\n",
       "      <td>rate</td>\n",
       "      <td>prices</td>\n",
       "      <td>company</td>\n",
       "      <td>rose</td>\n",
       "      <td>economy</td>\n",
       "      <td>year</td>\n",
       "    </tr>\n",
       "  </tbody>\n",
       "</table>\n",
       "</div>"
      ],
      "text/plain": [
       "            0          1          2           3               4       5  \\\n",
       "0        said       bush     people      police             two    told   \n",
       "1        said  officials      would   president             two   first   \n",
       "2         new      state     states        york             may   could   \n",
       "3      people  president   american       think  administration    good   \n",
       "4     central   southern       high    national       wednesday     got   \n",
       "5        said        new    million        also            bank    used   \n",
       "6      soviet      years  gorbachev        many           union  rating   \n",
       "7      former    defense      state      united           black   saudi   \n",
       "8  scientists      since       also  spacecraft            like    make   \n",
       "9     percent       said       last         oil            rate  prices   \n",
       "\n",
       "            6           7           8        9  \n",
       "0     dukakis         get         one     back  \n",
       "1    official       union  government     year  \n",
       "2  california     federal      global   summit  \n",
       "3       trade     believe      public  country  \n",
       "4       front        fire    reported   record  \n",
       "5         one       barry      jewish     east  \n",
       "6   according       three    officers   system  \n",
       "7    economic  washington  diplomatic  support  \n",
       "8    magellan     contact      called    group  \n",
       "9     company        rose     economy     year  "
      ]
     },
     "execution_count": 43,
     "metadata": {},
     "output_type": "execute_result"
    }
   ],
   "source": [
    "top_words"
   ]
  },
  {
   "cell_type": "markdown",
   "metadata": {},
   "source": [
    "$\\quad$Here, each row in the dataframe above represents a topic. The first topic seems to be related to oil price. The second topic in AP may always make comparsion between New York and California. The third topic is about the union and immigration while the forth one is about justice system. Given these 10 topics we can infer that AP's news is mainly political news. More intereting experiment will be conducted in the furture!"
   ]
  },
  {
   "cell_type": "markdown",
   "metadata": {},
   "source": [
    "### 7 Comparative analysis with Variational EM algorihtms"
   ]
  },
  {
   "cell_type": "markdown",
   "metadata": {},
   "source": [
    "#### 7.1  Variational Inference"
   ]
  },
  {
   "cell_type": "markdown",
   "metadata": {},
   "source": [
    "$\\quad$In paper Latent Dirichlet Allocation(Blei, Ng and Jordan(2002)), the authors offered Variational Inference with EM algorithm as solution for computation difficulty of LDA."
   ]
  },
  {
   "cell_type": "markdown",
   "metadata": {},
   "source": [
    "distribution of latent variables:<br>\n",
    "<center>$q(\\vec{\\theta},\\vec{z} | \\gamma,\\vec{\\phi}) = q(\\vec{\\theta} | \\gamma) \\prod_{n=1}^{N_i}q(z_n | \\vec{\\phi_n})$<br><center>"
   ]
  },
  {
   "cell_type": "markdown",
   "metadata": {},
   "source": [
    "* $\\gamma$: Dirichlet parameter for $\\vec{\\theta}$, variational parameter <br>\n",
    "* $\\vec{\\phi}$: Multinomial parameter for $\\vec{z}$ and can be denoted as $\\phi_1$$\\cdots$ $\\phi_n$,free variatioanl parameter <br>"
   ]
  },
  {
   "cell_type": "markdown",
   "metadata": {},
   "source": [
    "$\\quad$We used Kullback-Leibler(KL) divergence to check the difference between latent distribution and true probability distribution. The value of KL divergence is always greater or equal to 0 and it is equal to 0 if and only if two distributions are same. Then we want to minimize the difference. Our goal is to find parameter <br>\n",
    "* $\\gamma^*$ and $\\phi^*$ that minimize KL divergence using EM algorithm. <br>\n",
    "<center>($\\gamma^*$,$\\phi^*$)=$\\arg\\min_{\\gamma,\\phi}\n",
    "D(q(\\vec{\\theta},\\vec{z} | \\gamma,\\vec{\\phi}) || p(\\vec{\\theta},\\vec{z} | \\vec{w},\\alpha,\\beta))$<center>"
   ]
  },
  {
   "cell_type": "markdown",
   "metadata": {},
   "source": [
    "**update $\\vec{\\phi}$**:<br>\n",
    "<center>$\\phi_{ni} \\propto \\beta_{iw_n}exp\\{E_q[log(\\theta_i)| \\gamma]\\}$<center>"
   ]
  },
  {
   "cell_type": "markdown",
   "metadata": {},
   "source": [
    "* $E_q[log(\\theta_i)| \\gamma] = \\Psi(\\gamma_i) - \\Psi(\\sum_{j=1}^{k}\\gamma_j)$<br>\n",
    "* $\\Psi$: the first derivative of log gamma (log $\\Gamma$) function<br> \n",
    "<br>"
   ]
  },
  {
   "cell_type": "markdown",
   "metadata": {},
   "source": [
    "**update $\\vec{\\gamma}$**:<br>\n",
    "<center>$\\gamma_i$ = $\\alpha_i$ + $\\sum_{n=1}^{N}$ $\\phi_{ni}$<br>"
   ]
  },
  {
   "cell_type": "markdown",
   "metadata": {},
   "source": [
    "#### 7.2 Pseudo code to calculate $\\phi$ and $\\gamma$ in Variational Inference\n",
    "<quad> initialize $\\phi_{ni}^0$: = 1/K for all i and n<br>\n",
    "initialize $\\gamma_i$: = $\\alpha_i$ +N/k for all i<br>\n",
    "repeat<br>\n",
    "$\\qquad$ for n = 1 to N<br>\n",
    "$\\qquad \\quad$ for i = 1 to K<br>\n",
    "$\\qquad \\qquad$ \n",
    "$\\phi_{ni}^{t+1}$\n",
    ":= $\\beta_{iw_n}$exp($\\Psi$($\\gamma_i^t$))<br>\n",
    "$\\qquad \\quad$ normalize \n",
    "$\\phi_{n}^{t+1}$\n",
    "to sum to 1<br>\n",
    "$\\qquad$ \n",
    "$\\gamma^{t+1}$\n",
    ": = $\\alpha$ + $\\sum_{n=1}^{N}$ $\\phi_{ni}^{t+1}$<br>\n",
    "until convergence<br>"
   ]
  },
  {
   "cell_type": "markdown",
   "metadata": {},
   "source": [
    "#### Packages Installation"
   ]
  },
  {
   "cell_type": "code",
   "execution_count": 44,
   "metadata": {
    "collapsed": true
   },
   "outputs": [],
   "source": [
    "from scipy.special import psi\n",
    "import math"
   ]
  },
  {
   "cell_type": "markdown",
   "metadata": {},
   "source": [
    "#### 7.3 Data Cleaning Function(EM)"
   ]
  },
  {
   "cell_type": "code",
   "execution_count": 45,
   "metadata": {
    "collapsed": true
   },
   "outputs": [],
   "source": [
    "def text_processor_em(documents):\n",
    "    \n",
    "    \"\"\"\n",
    "    Split and filter words for each document in corpus.\n",
    "    Create VOCABULARY and word-id table\n",
    "\n",
    "    Parameters\n",
    "    ----------\n",
    "    corpus          : a valid address of text file and each line in this file\n",
    "    represents a document\n",
    "\n",
    "    Returns\n",
    "    -------\n",
    "    wordID          : a list with 16 lists inside\n",
    "                      every list repersents index of a word in the document\n",
    "                      \n",
    "    Countword       : a list with 16 lists inside\n",
    "                      every list represents the number of the word in the document\n",
    "                      \n",
    "    singlecount     : a list with 16 lists inside\n",
    "                      every list represents the number of total words in the document\n",
    "                      \n",
    "    word_id         : a dictionary \n",
    "                      takes vocabulary of corpus as keys and a set of unique \n",
    "                      numbers as values\n",
    "    \n",
    "    id_word         : a dictionary\n",
    "                      takes a set of unique numbersas keys and vocabulary of \n",
    "                      corpus as values\n",
    "               \n",
    "    \"\"\"\n",
    "    \n",
    "    \n",
    "    \n",
    "    \n",
    "    stopWords = set(nltk.corpus.stopwords.words('english'))\n",
    "\n",
    "    articles = []\n",
    "    word_id = {}\n",
    "    id_word = {}\n",
    "    current_wordid = 0\n",
    "    wordID = []\n",
    "    Countword = []\n",
    "    singlecount = [] \n",
    "    store1 = []\n",
    "    store2 = []\n",
    "    for doc in documents:\n",
    "        word_count = {}\n",
    "            ## split words\n",
    "        word_split = doc.split()\n",
    "        for word in word_split:\n",
    "            word = word.lower().strip()\n",
    "            ##\n",
    "            if (len(word)) > 1 and  word.isalpha() and word not in stopWords:\n",
    "                if word not in word_id:\n",
    "                    word_id[word] = current_wordid\n",
    "                    id_word[current_wordid] = word\n",
    "                    current_wordid += 1\n",
    "                if word in word_count:\n",
    "                    word_count[word] += 1\n",
    "                else:\n",
    "                    word_count[word] = 1\n",
    "                \n",
    "        wordIDList = []\n",
    "        wordCountList = []\n",
    "        wordCount = 0\n",
    "\n",
    "        for word in word_count.keys():\n",
    "            wordIDList.append(word_id[word])\n",
    "            wordCountList.append(word_count[word])\n",
    "            wordCount = wordCount + word_count[word] #total words in a doc\n",
    "        wordID.append(wordIDList)\n",
    "        Countword.append(wordCount)\n",
    "        singlecount.append(wordCountList)\n",
    "        store1.append(wordIDList)\n",
    "        store1.append(wordCountList)\n",
    "        store1.append(wordCount)    \n",
    "        store1 = []\n",
    "        store2.append(store1)\n",
    "    return wordID,Countword,singlecount,word_id,id_word"
   ]
  },
  {
   "cell_type": "markdown",
   "metadata": {},
   "source": [
    "#### 7.4 Initialization and EM algorithm"
   ]
  },
  {
   "cell_type": "code",
   "execution_count": 46,
   "metadata": {
    "collapsed": true
   },
   "outputs": [],
   "source": [
    "def maxwordnum():\n",
    "    \"\"\"\n",
    "    count length of lengest document \n",
    "\n",
    "    Parameters\n",
    "    ----------\n",
    "    \n",
    "    Returns\n",
    "    -------\n",
    "    max(length)          : the lengest length of a document\n",
    "                \n",
    "    \"\"\"\n",
    "    \n",
    "    length = []\n",
    "    for l in wordID:\n",
    "        length.append(len(l))\n",
    "    return max(length)   "
   ]
  },
  {
   "cell_type": "code",
   "execution_count": 47,
   "metadata": {
    "collapsed": false
   },
   "outputs": [],
   "source": [
    "def initial():\n",
    "    \"\"\"\n",
    "    initialize the model\n",
    "\n",
    "    Parameters\n",
    "    ----------\n",
    "    \n",
    "    Returns\n",
    "    -------\n",
    "    updatebeta            : a matrix\n",
    "                            updated ny ntw and nt matrix\n",
    "                \n",
    "    \"\"\"\n",
    "    \n",
    "    for z in range(0, K):\n",
    "        for w in range(0, N):\n",
    "            ntw[z, w] += 1.0/N + np.random.random() # probabily of word under every topic\n",
    "            nt[z] += ntw[z, w] \n",
    "    updatebeta(beta,K,N, ntw, nt)"
   ]
  },
  {
   "cell_type": "code",
   "execution_count": 48,
   "metadata": {
    "collapsed": false
   },
   "outputs": [],
   "source": [
    "%%cython\n",
    "\n",
    "import cython\n",
    "cimport numpy as np\n",
    "import numpy as np\n",
    "from libc.math cimport log\n",
    "cimport scipy.special.cython_special\n",
    "from scipy.special.cython_special import psi\n",
    "\n",
    "\n",
    "@cython.boundscheck(False)\n",
    "@cython.wraparound(False)\n",
    "@cython.cdivision(True)\n",
    "\n",
    "def updatebeta(double[:,:] beta, int K,int N, double[:,:] ntw, double[:] nt):\n",
    "    \n",
    "    \"\"\"\n",
    "    update beta matrix \n",
    "\n",
    "    Parameters\n",
    "    ----------\n",
    "    beta          : A matrix,\n",
    "                    return value from initial method\n",
    "                           \n",
    "    K             : number of topics \n",
    "    N             : length of words\n",
    "    ntw           : topic-words distribution\n",
    "    nt            : words distribution under one topic \n",
    "    \n",
    "    \n",
    "    Returns\n",
    "    -------\n",
    "    beta          : updated matrix\n",
    "                \n",
    "    \"\"\"\n",
    "    \n",
    "    \n",
    "    cdef int z,w\n",
    "    for z in range(0,K):\n",
    "        for w in range(0,N):\n",
    "            if(ntw[z,w] > 0):\n",
    "                beta[z,w] = beta[z,w] = log(ntw[z,w] / nt[z])\n",
    "            else:\n",
    "                beta[z,w] = -100"
   ]
  },
  {
   "cell_type": "code",
   "execution_count": 49,
   "metadata": {
    "collapsed": false
   },
   "outputs": [],
   "source": [
    "%%cython\n",
    "\n",
    "import cython\n",
    "cimport numpy as np\n",
    "import numpy as np\n",
    "from libc.math cimport exp,log\n",
    "cimport scipy.special.cython_special\n",
    "from scipy.special.cython_special import psi\n",
    "\n",
    "\n",
    "@cython.boundscheck(False)\n",
    "@cython.wraparound(False)\n",
    "@cython.cdivision(True)\n",
    "\n",
    "def variational(double[:,:] gamma, double[:,:] phi, singlecount,wordID, Countword, double[:,:] beta,\n",
    "                int alpha, int d, int K, int infer_iter):\n",
    "    \"\"\"\n",
    "    Variational with E step\n",
    "    \n",
    "    Parameters\n",
    "    ----------\n",
    "    gamma         : a matrix, shape(M,K), latent parameter of a distribution of topic for each document\n",
    "    phi           : a matrix, shape(K,v), latent parameter of a distribution of words for each topic\n",
    "    wordID        : a list returned by text_processor method\n",
    "    Countword     : a list returned by text_processor method\n",
    "    beta          : a matrix, returned by initial method\n",
    "    alpha         : a fix number \n",
    "    d             : a fix number \n",
    "    K             : number of topics, a fix number\n",
    "    infer_iter    : number of iteration\n",
    "    \n",
    "    Returns\n",
    "    -------gamma\n",
    "    gamma         : updated gamma, a matrix, shape(M,K), distribution of topic for each document\n",
    "   \n",
    "   \"\"\"\n",
    "\n",
    "    cdef int wordlength = len(wordID[d])\n",
    "    cdef double totalphi = 0\n",
    "    cdef double[:] phi_old = np.zeros((K))\n",
    "    cdef double [:] gamma_prime = np.zeros((K))\n",
    "    cdef int z, iteration,w\n",
    "\n",
    "    # initialize parameter\n",
    "    for z in range(K):\n",
    "        #initialize gamma\n",
    "        gamma[d][z] = alpha + Countword[d] * 1.0 / K\n",
    "        gamma_prime[z] = psi(gamma[d][z])\n",
    "        # initialize phi\n",
    "        for w in range(0,len(wordID[d])):\n",
    "            phi[w,z] = 1.0 / K\n",
    "    \n",
    "    for iteration in range(infer_iter):\n",
    "        for w in range(wordlength):\n",
    "            totalphi = 0\n",
    "            for z in range(0,K):\n",
    "                phi_old[z] = phi[w,z]\n",
    "                phi[w,z] = beta[z,wordID[d][w]] + gamma_prime[z]\n",
    "                if z > 0:\n",
    "                    totalphi = log((exp(totalphi)) + exp(phi[w,z]))\n",
    "                else:\n",
    "                    totalphi = phi[w,z]\n",
    "            for z in range(0,K):\n",
    "                phi[w,z] = exp(phi[w,z] - totalphi)\n",
    "                gamma[d][z] = gamma[d][z] + singlecount[d][w] * (phi[w,z] - phi_old[z])\n",
    "                gamma_prime[z] = psi(gamma[d][z]) \n",
    "                \n",
    "    return gamma"
   ]
  },
  {
   "cell_type": "markdown",
   "metadata": {},
   "source": [
    "#### 7.5 EM Algorithm Test"
   ]
  },
  {
   "cell_type": "code",
   "execution_count": 50,
   "metadata": {
    "collapsed": false
   },
   "outputs": [],
   "source": [
    "wordID,Countword,singlecount,word_id,id_word = text_processor_em(test_list)"
   ]
  },
  {
   "cell_type": "code",
   "execution_count": 51,
   "metadata": {
    "collapsed": true
   },
   "outputs": [],
   "source": [
    "M = len(wordID)\n",
    "K = 2\n",
    "N = len(word_id)\n",
    "infer_iter = 20\n",
    "EM_iter = 50\n",
    "# inital value for hyperparameter alpha\n",
    "alpha = 5\n",
    "# sufficient statistic of alpha\n",
    "alphass = 0 \n",
    "# topic-word distribution\n",
    "beta = np.zeros((K,N))\n",
    "# topic count, to caculate beta\n",
    "ntw = np.zeros((K,N))\n",
    "# topic count, sum of ntw, to calculate beta\n",
    "nt = np.zeros((K))\n",
    "# variational inference parameter \n",
    "gamma = np.zeros((M,K))\n",
    "phi = np.zeros((maxwordnum(),K))"
   ]
  },
  {
   "cell_type": "code",
   "execution_count": 52,
   "metadata": {
    "collapsed": true
   },
   "outputs": [],
   "source": [
    "initial()"
   ]
  },
  {
   "cell_type": "code",
   "execution_count": 53,
   "metadata": {
    "collapsed": false
   },
   "outputs": [],
   "source": [
    "for iteration in range(0,EM_iter):\n",
    "    nt = np.zeros((K))\n",
    "    ntw = np.zeros((K,N))\n",
    "    alphass = 0\n",
    "    \n",
    "        # E step\n",
    "    for d in range(0,M):\n",
    "        variational(gamma, phi, singlecount,wordID, Countword, beta, alpha, d, K, infer_iter)\n",
    "        totalgamma = 0\n",
    "        for z in range(0,K):\n",
    "            totalgamma += gamma[d,z]\n",
    "            alphass += psi(gamma[d,z])\n",
    "        alphass -= K * psi(totalgamma)\n",
    "        \n",
    "        for w in range(len(wordID[d])):\n",
    "            for z in range(0,K):\n",
    "                ntw[z][wordID[d][w]] += singlecount[d][w] * phi[w,z]\n",
    "                nt[z] += singlecount[d][w] * phi[w,z]\n",
    "    # M step\n",
    "    updatebeta(beta,K,N, ntw, nt)"
   ]
  },
  {
   "cell_type": "code",
   "execution_count": 54,
   "metadata": {
    "collapsed": false,
    "scrolled": true
   },
   "outputs": [
    {
     "data": {
      "text/plain": [
       "array([[ 0.71447998,  0.28552002],\n",
       "       [ 0.20566964,  0.79433036]])"
      ]
     },
     "execution_count": 54,
     "metadata": {},
     "output_type": "execute_result"
    }
   ],
   "source": [
    "gamma/np.sum(gamma,1)[:,None]"
   ]
  },
  {
   "cell_type": "markdown",
   "metadata": {},
   "source": [
    "$\\quad$Here, we apply implementation of LDA with Variatioal Inference EM on our simulation data. The true topics distribution is as below. Under document 1, one topic has 30% to be assigned and the other topic has 70% to be assigned. Under document1, one topic has around 80% probability and another topic has around 20% probability. The EM algorithm produces a similar result, which for document one, one topic has 28.6 % to be assigned and other topic has 71.4% to be assigned. For document2, one topic has 79.5% to be assigned and other has 20.5%. So the result is highly similar to the true document-topics distribution, which proves the validality of the algorithm.  "
   ]
  },
  {
   "cell_type": "markdown",
   "metadata": {},
   "source": [
    "#### 7.6 Perplexity Comparison Gibbs Sampler vs Variational EM"
   ]
  },
  {
   "cell_type": "code",
   "execution_count": 55,
   "metadata": {
    "collapsed": false
   },
   "outputs": [],
   "source": [
    "wordID,Countword,singlecount,word_id,id_word = text_processor_em(docs_ap)"
   ]
  },
  {
   "cell_type": "code",
   "execution_count": 56,
   "metadata": {
    "collapsed": false
   },
   "outputs": [],
   "source": [
    "M = len(wordID)\n",
    "K = 10\n",
    "N = len(word_id)\n",
    "infer_iter = 20\n",
    "EM_iter = 20\n",
    "alpha = 5\n",
    "alphass = 0 \n",
    "beta = np.zeros((K,N))\n",
    "ntw = np.zeros((K,N))\n",
    "nt = np.zeros((K))\n",
    "gamma = np.zeros((M,K))\n",
    "phi = np.zeros((maxwordnum(),K))"
   ]
  },
  {
   "cell_type": "code",
   "execution_count": 57,
   "metadata": {
    "collapsed": true
   },
   "outputs": [],
   "source": [
    "initial()"
   ]
  },
  {
   "cell_type": "code",
   "execution_count": 58,
   "metadata": {
    "collapsed": true
   },
   "outputs": [],
   "source": [
    "perp = []\n",
    "for iteration in range(0,EM_iter):\n",
    "    nt = np.zeros((K))\n",
    "    ntw = np.zeros((K,N))\n",
    "    alphass = 0\n",
    "    \n",
    "        # E step\n",
    "    for d in range(0,M):\n",
    "        variational(gamma, phi, singlecount,wordID, Countword, beta, alpha, d, K, infer_iter)\n",
    "        totalgamma = 0\n",
    "        for z in range(0,K):\n",
    "            totalgamma += gamma[d,z]\n",
    "            alphass += psi(gamma[d,z])\n",
    "        alphass -= K * psi(totalgamma)\n",
    "        \n",
    "        for w in range(len(wordID[d])):\n",
    "            for z in range(0,K):\n",
    "                ntw[z][wordID[d][w]] += singlecount[d][w] * phi[w,z]\n",
    "                nt[z] += singlecount[d][w] * phi[w,z]\n",
    "    # M step\n",
    "    updatebeta(beta,K,N, ntw, nt)\n",
    "    \n",
    "    # perplexity\n",
    "    nd = np.sum(np.array(gamma),1)\n",
    "    n = 0\n",
    "    ll = 0.0\n",
    "\n",
    "    for d,doc in enumerate(wordID):\n",
    "        for w in doc:\n",
    "            ll = ll + np.log(((np.array(ntw)[:, w] / np.array(nt))* (np.array(gamma)[d, :] / nd[d])).sum())\n",
    "            n = n + 1\n",
    "            exp_ll = np.exp(ll/(-n))\n",
    "    perp.append(exp_ll) "
   ]
  },
  {
   "cell_type": "code",
   "execution_count": 59,
   "metadata": {
    "collapsed": false,
    "scrolled": true
   },
   "outputs": [
    {
     "data": {
      "image/png": "[encoded data removed]",
      "text/plain": [
       "<matplotlib.figure.Figure at 0x7fb3ee28d6d8>"
      ]
     },
     "metadata": {},
     "output_type": "display_data"
    }
   ],
   "source": [
    "plt.plot(list(np.arange(200)),list(perp2), 'ro', color = 'r')\n",
    "\n",
    "plt.title('Perplexity for LDA with Gibbs Sampling', y=1.08)\n",
    "\n",
    "plt.ylabel(\"perplexity\")\n",
    "\n",
    "pass"
   ]
  },
  {
   "cell_type": "code",
   "execution_count": 60,
   "metadata": {
    "collapsed": false,
    "scrolled": false
   },
   "outputs": [
    {
     "data": {
      "image/png": "[encoded data removed]",
      "text/plain": [
       "<matplotlib.figure.Figure at 0x7fb3ee2476a0>"
      ]
     },
     "metadata": {},
     "output_type": "display_data"
    }
   ],
   "source": [
    "plt.plot(list(np.arange(20)),list(np.array(perp)), 'ro', color = 'r')\n",
    "\n",
    "plt.title('Perplexity for LDA with Varitioanl Inference', y=1.08)\n",
    "\n",
    "plt.ylabel(\"perplexity\")\n",
    "pass"
   ]
  },
  {
   "cell_type": "markdown",
   "metadata": {},
   "source": [
    "$\\quad$ This part we compare perplexity of LDA implemented with Gibbs Sampler and with Variational Inference EM algorithm. We apply these two algorithms on `dataset2.txt`. From the plots, we can see that the perplexity of LDA with Gibbs Sampler is really high, around 3000, and it converges around 2000 after 50 iterations. The perplexity of LDA with Variational Inference EM starts with around 3700 but covnerge to around 1300 soon after around 10 iterations. So from perplexity, LDA with EM algorithm performs better than Gibbs Sampler. "
   ]
  },
  {
   "cell_type": "markdown",
   "metadata": {},
   "source": [
    "#### 7.6 Efficiency Comparison Gibbs Sampler vs Variational EM"
   ]
  },
  {
   "cell_type": "code",
   "execution_count": 61,
   "metadata": {
    "collapsed": false
   },
   "outputs": [
    {
     "name": "stdout",
     "output_type": "stream",
     "text": [
      "1 loop, best of 3: 5.09 s per loop\n"
     ]
    }
   ],
   "source": [
    "%timeit dz_n_apt,zw_n_apt,z_n_apt,perp_apt = gibbs_sampler_cython(200, articles_ap,Z_ap,dz_n_ap,zw_n_ap,z_n_ap,K_ap)"
   ]
  },
  {
   "cell_type": "code",
   "execution_count": 62,
   "metadata": {
    "collapsed": false
   },
   "outputs": [
    {
     "name": "stdout",
     "output_type": "stream",
     "text": [
      "1 loop, best of 3: 28 s per loop\n"
     ]
    }
   ],
   "source": [
    "%%timeit\n",
    "for iteration in range(0,5):\n",
    "    nt = np.zeros((K))\n",
    "    ntw = np.zeros((K,N))\n",
    "    alphass = 0\n",
    "    \n",
    "        # E step\n",
    "    for d in range(0,M):\n",
    "        variational(gamma, phi, singlecount,wordID, Countword, beta, alpha, d, K, infer_iter)\n",
    "        totalgamma = 0\n",
    "        for z in range(0,K):\n",
    "            totalgamma += gamma[d,z]\n",
    "            alphass += psi(gamma[d,z])\n",
    "        alphass -= K * psi(totalgamma)\n",
    "        \n",
    "        for w in range(len(wordID[d])):\n",
    "            for z in range(0,K):\n",
    "                ntw[z][wordID[d][w]] += singlecount[d][w] * phi[w,z]\n",
    "                nt[z] += singlecount[d][w] * phi[w,z]\n",
    "    # M step\n",
    "    updatebeta(beta,K,N, ntw, nt)"
   ]
  },
  {
   "cell_type": "markdown",
   "metadata": {},
   "source": [
    "$\\quad$ This part we compare efficiency of LDA implemented with Gibbs Sampler and with Variational Inference EM algorithm. The first time showed is time of Gibbs Sample process, while the second time showed is time of EM algorithm. Gibbs Sampler is obvious faster than EM algorithm. So from efficiency, Gibbs Sampler perfoms better. "
   ]
  },
  {
   "cell_type": "markdown",
   "metadata": {},
   "source": [
    "### 8 Conclusion"
   ]
  },
  {
   "cell_type": "markdown",
   "metadata": {},
   "source": [
    "$\\quad$ LDA is a three-level hierarchical Bayesian model to deal with text data. It is a used approach in unsuper vised machine learning. It performs better than pLSI. The pLSI posits each word of training document comes from a random chosen topic. So the topics are randomly drawed from one specific document. There is only one distribution of topics under a document. However in LDA, document is not fixed, it is also sampled with a parameter. So, LDA is more flexible. LDA has been applied widely for text data. It can achieve document modeling, document classification, and collaborative filtering. We implemented LDA with Gibbs Sampler and Variational Inference. We apply LDA on corpus to find the most popular words under topics. Also it can be used to find latent topics behind documents. To copmare these two algorithms, Variational Inference does well in perplexity while Gibbs Sampler performs better in efficiency."
   ]
  },
  {
   "cell_type": "markdown",
   "metadata": {},
   "source": [
    "### 9 Reference"
   ]
  },
  {
   "cell_type": "markdown",
   "metadata": {},
   "source": [
    "[1] David M Blei, Andrew Y Ng, and Michael I Jordan. Latent dirichlet allocation. Journal of\n",
    "Machine Learning Research, 3:993–1022, 2003."
   ]
  },
  {
   "cell_type": "markdown",
   "metadata": {},
   "source": [
    "[2] Associated Press, address https://en.wikipedia.org/wiki/Associated_Press"
   ]
  },
  {
   "cell_type": "markdown",
   "metadata": {},
   "source": [
    "[3]zhikaizhang, address https://github.com/laserwave/LDA-Variational-EM"
   ]
  }
 ],
 "metadata": {
  "kernelspec": {
   "display_name": "Python 3",
   "language": "python",
   "name": "python3"
  },
  "language_info": {
   "codemirror_mode": {
    "name": "ipython",
    "version": 3
   },
   "file_extension": ".py",
   "mimetype": "text/x-python",
   "name": "python",
   "nbconvert_exporter": "python",
   "pygments_lexer": "ipython3",
   "version": "3.5.2"
  }
 },
 "nbformat": 4,
 "nbformat_minor": 2
}
